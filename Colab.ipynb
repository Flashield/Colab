{
  "cells": [
    {
      "cell_type": "markdown",
      "metadata": {
        "colab_type": "text",
        "id": "view-in-github"
      },
      "source": [
        "<a href=\"https://colab.research.google.com/github/Flashield/Colab/blob/main/Colab.ipynb\" target=\"_parent\"><img src=\"https://colab.research.google.com/assets/colab-badge.svg\" alt=\"Open In Colab\"/></a>"
      ]
    },
    {
      "cell_type": "code",
      "execution_count": 1,
      "metadata": {
        "id": "Fsjx2k973_LU"
      },
      "outputs": [
        {
          "name": "stderr",
          "output_type": "stream",
          "text": [
            "2022-09-17 03:38:05.987332: W tensorflow/stream_executor/platform/default/dso_loader.cc:64] Could not load dynamic library 'libcudart.so.11.0'; dlerror: libcudart.so.11.0: cannot open shared object file: No such file or directory\n",
            "2022-09-17 03:38:05.987371: I tensorflow/stream_executor/cuda/cudart_stub.cc:29] Ignore above cudart dlerror if you do not have a GPU set up on your machine.\n"
          ]
        }
      ],
      "source": [
        "import tensorflow as tf"
      ]
    },
    {
      "cell_type": "code",
      "execution_count": 2,
      "metadata": {
        "id": "2Y93VJgU4BO9"
      },
      "outputs": [],
      "source": [
        "from tensorflow import keras"
      ]
    },
    {
      "cell_type": "code",
      "execution_count": 4,
      "metadata": {},
      "outputs": [
        {
          "name": "stdout",
          "output_type": "stream",
          "text": [
            "Collecting opencv-python\n",
            "  Downloading opencv_python-4.6.0.66-cp36-abi3-manylinux_2_17_x86_64.manylinux2014_x86_64.whl (60.9 MB)\n",
            "\u001b[2K     \u001b[90m━━━━━━━━━━━━━━━━━━━━━━━━━━━━━━━━━━━━━━━━\u001b[0m \u001b[32m60.9/60.9 MB\u001b[0m \u001b[31m24.8 MB/s\u001b[0m eta \u001b[36m0:00:00\u001b[0m00:01\u001b[0m00:01\u001b[0m\n",
            "\u001b[?25hRequirement already satisfied: numpy>=1.21.2 in /opt/python/3.10.4/lib/python3.10/site-packages (from opencv-python) (1.23.2)\n",
            "Installing collected packages: opencv-python\n",
            "Successfully installed opencv-python-4.6.0.66\n"
          ]
        }
      ],
      "source": [
        "!pip install opencv-python"
      ]
    },
    {
      "cell_type": "code",
      "execution_count": 8,
      "metadata": {},
      "outputs": [
        {
          "name": "stdout",
          "output_type": "stream",
          "text": [
            "Reading package lists... Done\n",
            "Building dependency tree       \n",
            "Reading state information... Done\n",
            "The following additional packages will be installed:\n",
            "  libdrm-amdgpu1 libdrm-intel1 libdrm-nouveau2 libdrm-radeon1 libegl-dev\n",
            "  libegl-mesa0 libegl1 libgl-dev libgl1 libgl1-mesa-dri libglapi-mesa\n",
            "  libgles-dev libgles1 libgles2 libglvnd-dev libglvnd0 libglx-dev libglx-mesa0\n",
            "  libglx0 libllvm12 libopengl-dev libopengl0 libpciaccess0 libsensors-config\n",
            "  libsensors5 libvulkan1 libxcb-dri2-0 libxcb-dri3-0 libxcb-glx0\n",
            "  libxcb-present0 libxcb-randr0 libxcb-sync1 libxcb-xfixes0 libxshmfence1\n",
            "  libxxf86vm1 mesa-vulkan-drivers\n",
            "Suggested packages:\n",
            "  pciutils lm-sensors\n",
            "The following NEW packages will be installed:\n",
            "  libdrm-amdgpu1 libdrm-intel1 libdrm-nouveau2 libdrm-radeon1 libegl-dev\n",
            "  libegl-mesa0 libegl1 libgl-dev libgl1 libgl1-mesa-dev libgl1-mesa-dri\n",
            "  libglapi-mesa libgles-dev libgles1 libgles2 libglvnd-dev libglvnd0\n",
            "  libglx-dev libglx-mesa0 libglx0 libllvm12 libopengl-dev libopengl0\n",
            "  libpciaccess0 libsensors-config libsensors5 libvulkan1 libxcb-dri2-0\n",
            "  libxcb-dri3-0 libxcb-glx0 libxcb-present0 libxcb-randr0 libxcb-sync1\n",
            "  libxcb-xfixes0 libxshmfence1 libxxf86vm1 mesa-vulkan-drivers\n",
            "0 upgraded, 37 newly installed, 0 to remove and 4 not upgraded.\n",
            "Need to get 36.6 MB of archives.\n",
            "After this operation, 527 MB of additional disk space will be used.\n",
            "Get:1 http://archive.ubuntu.com/ubuntu focal-updates/main amd64 libdrm-amdgpu1 amd64 2.4.107-8ubuntu1~20.04.2 [18.6 kB]\n",
            "Get:2 http://archive.ubuntu.com/ubuntu focal/main amd64 libpciaccess0 amd64 0.16-0ubuntu1 [17.9 kB]\n",
            "Get:3 http://archive.ubuntu.com/ubuntu focal-updates/main amd64 libdrm-intel1 amd64 2.4.107-8ubuntu1~20.04.2 [60.3 kB]\n",
            "Get:4 http://archive.ubuntu.com/ubuntu focal-updates/main amd64 libdrm-nouveau2 amd64 2.4.107-8ubuntu1~20.04.2 [16.6 kB]\n",
            "Get:5 http://archive.ubuntu.com/ubuntu focal-updates/main amd64 libdrm-radeon1 amd64 2.4.107-8ubuntu1~20.04.2 [19.7 kB]\n",
            "Get:6 http://archive.ubuntu.com/ubuntu focal-updates/main amd64 libglvnd0 amd64 1.3.2-1~ubuntu0.20.04.2 [48.1 kB]\n",
            "Get:7 http://archive.ubuntu.com/ubuntu focal-updates/main amd64 libglapi-mesa amd64 21.2.6-0ubuntu0.1~20.04.2 [27.4 kB]\n",
            "Get:8 http://archive.ubuntu.com/ubuntu focal/main amd64 libxcb-dri2-0 amd64 1.14-2 [6920 B]\n",
            "Get:9 http://archive.ubuntu.com/ubuntu focal/main amd64 libxcb-dri3-0 amd64 1.14-2 [6552 B]\n",
            "Get:10 http://archive.ubuntu.com/ubuntu focal/main amd64 libxcb-present0 amd64 1.14-2 [5560 B]\n",
            "Get:11 http://archive.ubuntu.com/ubuntu focal/main amd64 libxcb-sync1 amd64 1.14-2 [8884 B]\n",
            "Get:12 http://archive.ubuntu.com/ubuntu focal/main amd64 libxcb-xfixes0 amd64 1.14-2 [9296 B]\n",
            "Get:13 http://archive.ubuntu.com/ubuntu focal/main amd64 libxshmfence1 amd64 1.3-1 [5028 B]\n",
            "Get:14 http://archive.ubuntu.com/ubuntu focal-updates/main amd64 libegl-mesa0 amd64 21.2.6-0ubuntu0.1~20.04.2 [96.3 kB]\n",
            "Get:15 http://archive.ubuntu.com/ubuntu focal-updates/main amd64 libegl1 amd64 1.3.2-1~ubuntu0.20.04.2 [31.9 kB]\n",
            "Get:16 http://archive.ubuntu.com/ubuntu focal/main amd64 libxcb-glx0 amd64 1.14-2 [22.1 kB]\n",
            "Get:17 http://archive.ubuntu.com/ubuntu focal/main amd64 libxxf86vm1 amd64 1:1.1.4-1build1 [10.2 kB]\n",
            "Get:18 http://archive.ubuntu.com/ubuntu focal-updates/main amd64 libllvm12 amd64 1:12.0.0-3ubuntu1~20.04.5 [18.8 MB]\n",
            "Get:19 http://archive.ubuntu.com/ubuntu focal-updates/main amd64 libsensors-config all 1:3.6.0-2ubuntu1.1 [6052 B]\n",
            "Get:20 http://archive.ubuntu.com/ubuntu focal-updates/main amd64 libsensors5 amd64 1:3.6.0-2ubuntu1.1 [27.2 kB]\n",
            "Get:21 http://archive.ubuntu.com/ubuntu focal/main amd64 libvulkan1 amd64 1.2.131.2-1 [93.3 kB]\n",
            "Get:22 http://archive.ubuntu.com/ubuntu focal-updates/main amd64 libgl1-mesa-dri amd64 21.2.6-0ubuntu0.1~20.04.2 [11.0 MB]\n",
            "Get:23 http://archive.ubuntu.com/ubuntu focal-updates/main amd64 libglx-mesa0 amd64 21.2.6-0ubuntu0.1~20.04.2 [137 kB]\n",
            "Get:24 http://archive.ubuntu.com/ubuntu focal-updates/main amd64 libglx0 amd64 1.3.2-1~ubuntu0.20.04.2 [32.5 kB]\n",
            "Get:25 http://archive.ubuntu.com/ubuntu focal-updates/main amd64 libgl1 amd64 1.3.2-1~ubuntu0.20.04.2 [85.8 kB]\n",
            "Get:26 http://archive.ubuntu.com/ubuntu focal-updates/main amd64 libglx-dev amd64 1.3.2-1~ubuntu0.20.04.2 [14.0 kB]\n",
            "Get:27 http://archive.ubuntu.com/ubuntu focal-updates/main amd64 libgl-dev amd64 1.3.2-1~ubuntu0.20.04.2 [97.8 kB]\n",
            "Get:28 http://archive.ubuntu.com/ubuntu focal-updates/main amd64 libegl-dev amd64 1.3.2-1~ubuntu0.20.04.2 [17.2 kB]\n",
            "Get:29 http://archive.ubuntu.com/ubuntu focal-updates/main amd64 libgles1 amd64 1.3.2-1~ubuntu0.20.04.2 [10.3 kB]\n",
            "Get:30 http://archive.ubuntu.com/ubuntu focal-updates/main amd64 libgles2 amd64 1.3.2-1~ubuntu0.20.04.2 [15.6 kB]\n",
            "Get:31 http://archive.ubuntu.com/ubuntu focal-updates/main amd64 libgles-dev amd64 1.3.2-1~ubuntu0.20.04.2 [47.9 kB]\n",
            "Get:32 http://archive.ubuntu.com/ubuntu focal-updates/main amd64 libopengl0 amd64 1.3.2-1~ubuntu0.20.04.2 [29.2 kB]\n",
            "Get:33 http://archive.ubuntu.com/ubuntu focal-updates/main amd64 libopengl-dev amd64 1.3.2-1~ubuntu0.20.04.2 [3584 B]\n",
            "Get:34 http://archive.ubuntu.com/ubuntu focal/main amd64 libxcb-randr0 amd64 1.14-2 [16.3 kB]\n",
            "Get:35 http://archive.ubuntu.com/ubuntu focal-updates/main amd64 mesa-vulkan-drivers amd64 21.2.6-0ubuntu0.1~20.04.2 [5788 kB]\n",
            "Get:36 http://archive.ubuntu.com/ubuntu focal-updates/main amd64 libglvnd-dev amd64 1.3.2-1~ubuntu0.20.04.2 [11.6 kB]\n",
            "Get:37 http://archive.ubuntu.com/ubuntu focal-updates/main amd64 libgl1-mesa-dev amd64 21.2.6-0ubuntu0.1~20.04.2 [6420 B]\n",
            "Fetched 36.6 MB in 6s (5902 kB/s)                                              \u001b[0m\n",
            "Extracting templates from packages: 100%\n",
            "\n",
            "\u001b7\u001b[0;23r\u001b8\u001b[1ASelecting previously unselected package libdrm-amdgpu1:amd64.\n",
            "(Reading database ... 70653 files and directories currently installed.)\n",
            "Preparing to unpack .../00-libdrm-amdgpu1_2.4.107-8ubuntu1~20.04.2_amd64.deb ...\n",
            "\u001b7\u001b[24;0f\u001b[42m\u001b[30mProgress: [  0%]\u001b[49m\u001b[39m [..........................................................] \u001b8Unpacking libdrm-amdgpu1:amd64 (2.4.107-8ubuntu1~20.04.2) ...\n",
            "\u001b7\u001b[24;0f\u001b[42m\u001b[30mProgress: [  1%]\u001b[49m\u001b[39m [..........................................................] \u001b8Selecting previously unselected package libpciaccess0:amd64.\n",
            "Preparing to unpack .../01-libpciaccess0_0.16-0ubuntu1_amd64.deb ...\n",
            "\u001b7\u001b[24;0f\u001b[42m\u001b[30mProgress: [  2%]\u001b[49m\u001b[39m [#.........................................................] \u001b8Unpacking libpciaccess0:amd64 (0.16-0ubuntu1) ...\n",
            "Selecting previously unselected package libdrm-intel1:amd64.\n",
            "Preparing to unpack .../02-libdrm-intel1_2.4.107-8ubuntu1~20.04.2_amd64.deb ...\n",
            "\u001b7\u001b[24;0f\u001b[42m\u001b[30mProgress: [  3%]\u001b[49m\u001b[39m [#.........................................................] \u001b8Unpacking libdrm-intel1:amd64 (2.4.107-8ubuntu1~20.04.2) ...\n",
            "\u001b7\u001b[24;0f\u001b[42m\u001b[30mProgress: [  4%]\u001b[49m\u001b[39m [##........................................................] \u001b8Selecting previously unselected package libdrm-nouveau2:amd64.\n",
            "Preparing to unpack .../03-libdrm-nouveau2_2.4.107-8ubuntu1~20.04.2_amd64.deb ...\n",
            "Unpacking libdrm-nouveau2:amd64 (2.4.107-8ubuntu1~20.04.2) ...\n",
            "\u001b7\u001b[24;0f\u001b[42m\u001b[30mProgress: [  5%]\u001b[49m\u001b[39m [###.......................................................] \u001b8Selecting previously unselected package libdrm-radeon1:amd64.\n",
            "Preparing to unpack .../04-libdrm-radeon1_2.4.107-8ubuntu1~20.04.2_amd64.deb ...\n",
            "\u001b7\u001b[24;0f\u001b[42m\u001b[30mProgress: [  6%]\u001b[49m\u001b[39m [###.......................................................] \u001b8Unpacking libdrm-radeon1:amd64 (2.4.107-8ubuntu1~20.04.2) ...\n",
            "Selecting previously unselected package libglvnd0:amd64.\n",
            "Preparing to unpack .../05-libglvnd0_1.3.2-1~ubuntu0.20.04.2_amd64.deb ...\n",
            "\u001b7\u001b[24;0f\u001b[42m\u001b[30mProgress: [  7%]\u001b[49m\u001b[39m [####......................................................] \u001b8Unpacking libglvnd0:amd64 (1.3.2-1~ubuntu0.20.04.2) ...\n",
            "\u001b7\u001b[24;0f\u001b[42m\u001b[30mProgress: [  8%]\u001b[49m\u001b[39m [####......................................................] \u001b8Selecting previously unselected package libglapi-mesa:amd64.\n",
            "Preparing to unpack .../06-libglapi-mesa_21.2.6-0ubuntu0.1~20.04.2_amd64.deb ...\n",
            "Unpacking libglapi-mesa:amd64 (21.2.6-0ubuntu0.1~20.04.2) ...\n",
            "\u001b7\u001b[24;0f\u001b[42m\u001b[30mProgress: [  9%]\u001b[49m\u001b[39m [#####.....................................................] \u001b8Selecting previously unselected package libxcb-dri2-0:amd64.\n",
            "Preparing to unpack .../07-libxcb-dri2-0_1.14-2_amd64.deb ...\n",
            "\u001b7\u001b[24;0f\u001b[42m\u001b[30mProgress: [ 10%]\u001b[49m\u001b[39m [#####.....................................................] \u001b8Unpacking libxcb-dri2-0:amd64 (1.14-2) ...\n",
            "Selecting previously unselected package libxcb-dri3-0:amd64.\n",
            "Preparing to unpack .../08-libxcb-dri3-0_1.14-2_amd64.deb ...\n",
            "\u001b7\u001b[24;0f\u001b[42m\u001b[30mProgress: [ 11%]\u001b[49m\u001b[39m [######....................................................] \u001b8Unpacking libxcb-dri3-0:amd64 (1.14-2) ...\n",
            "\u001b7\u001b[24;0f\u001b[42m\u001b[30mProgress: [ 12%]\u001b[49m\u001b[39m [#######...................................................] \u001b8Selecting previously unselected package libxcb-present0:amd64.\n",
            "Preparing to unpack .../09-libxcb-present0_1.14-2_amd64.deb ...\n",
            "Unpacking libxcb-present0:amd64 (1.14-2) ...\n",
            "\u001b7\u001b[24;0f\u001b[42m\u001b[30mProgress: [ 13%]\u001b[49m\u001b[39m [#######...................................................] \u001b8Selecting previously unselected package libxcb-sync1:amd64.\n",
            "Preparing to unpack .../10-libxcb-sync1_1.14-2_amd64.deb ...\n",
            "\u001b7\u001b[24;0f\u001b[42m\u001b[30mProgress: [ 14%]\u001b[49m\u001b[39m [########..................................................] \u001b8Unpacking libxcb-sync1:amd64 (1.14-2) ...\n",
            "Selecting previously unselected package libxcb-xfixes0:amd64.\n",
            "Preparing to unpack .../11-libxcb-xfixes0_1.14-2_amd64.deb ...\n",
            "\u001b7\u001b[24;0f\u001b[42m\u001b[30mProgress: [ 15%]\u001b[49m\u001b[39m [########..................................................] \u001b8Unpacking libxcb-xfixes0:amd64 (1.14-2) ...\n",
            "\u001b7\u001b[24;0f\u001b[42m\u001b[30mProgress: [ 16%]\u001b[49m\u001b[39m [#########.................................................] \u001b8Selecting previously unselected package libxshmfence1:amd64.\n",
            "Preparing to unpack .../12-libxshmfence1_1.3-1_amd64.deb ...\n",
            "Unpacking libxshmfence1:amd64 (1.3-1) ...\n",
            "\u001b7\u001b[24;0f\u001b[42m\u001b[30mProgress: [ 17%]\u001b[49m\u001b[39m [##########................................................] \u001b8Selecting previously unselected package libegl-mesa0:amd64.\n",
            "Preparing to unpack .../13-libegl-mesa0_21.2.6-0ubuntu0.1~20.04.2_amd64.deb ...\n",
            "\u001b7\u001b[24;0f\u001b[42m\u001b[30mProgress: [ 18%]\u001b[49m\u001b[39m [##########................................................] \u001b8Unpacking libegl-mesa0:amd64 (21.2.6-0ubuntu0.1~20.04.2) ...\n",
            "Selecting previously unselected package libegl1:amd64.\n",
            "Preparing to unpack .../14-libegl1_1.3.2-1~ubuntu0.20.04.2_amd64.deb ...\n",
            "\u001b7\u001b[24;0f\u001b[42m\u001b[30mProgress: [ 19%]\u001b[49m\u001b[39m [###########...............................................] \u001b8Unpacking libegl1:amd64 (1.3.2-1~ubuntu0.20.04.2) ...\n",
            "\u001b7\u001b[24;0f\u001b[42m\u001b[30mProgress: [ 20%]\u001b[49m\u001b[39m [###########...............................................] \u001b8Selecting previously unselected package libxcb-glx0:amd64.\n",
            "Preparing to unpack .../15-libxcb-glx0_1.14-2_amd64.deb ...\n",
            "Unpacking libxcb-glx0:amd64 (1.14-2) ...\n",
            "\u001b7\u001b[24;0f\u001b[42m\u001b[30mProgress: [ 21%]\u001b[49m\u001b[39m [############..............................................] \u001b8Selecting previously unselected package libxxf86vm1:amd64.\n",
            "Preparing to unpack .../16-libxxf86vm1_1%3a1.1.4-1build1_amd64.deb ...\n",
            "\u001b7\u001b[24;0f\u001b[42m\u001b[30mProgress: [ 22%]\u001b[49m\u001b[39m [############..............................................] \u001b8Unpacking libxxf86vm1:amd64 (1:1.1.4-1build1) ...\n",
            "Selecting previously unselected package libllvm12:amd64.\n",
            "Preparing to unpack .../17-libllvm12_1%3a12.0.0-3ubuntu1~20.04.5_amd64.deb ...\n",
            "\u001b7\u001b[24;0f\u001b[42m\u001b[30mProgress: [ 23%]\u001b[49m\u001b[39m [#############.............................................] \u001b8Unpacking libllvm12:amd64 (1:12.0.0-3ubuntu1~20.04.5) ...\n",
            "\u001b7\u001b[24;0f\u001b[42m\u001b[30mProgress: [ 24%]\u001b[49m\u001b[39m [##############............................................] \u001b8Selecting previously unselected package libsensors-config.\n",
            "Preparing to unpack .../18-libsensors-config_1%3a3.6.0-2ubuntu1.1_all.deb ...\n",
            "Unpacking libsensors-config (1:3.6.0-2ubuntu1.1) ...\n",
            "\u001b7\u001b[24;0f\u001b[42m\u001b[30mProgress: [ 26%]\u001b[49m\u001b[39m [##############............................................] \u001b8Selecting previously unselected package libsensors5:amd64.\n",
            "Preparing to unpack .../19-libsensors5_1%3a3.6.0-2ubuntu1.1_amd64.deb ...\n",
            "\u001b7\u001b[24;0f\u001b[42m\u001b[30mProgress: [ 26%]\u001b[49m\u001b[39m [###############...........................................] \u001b8Unpacking libsensors5:amd64 (1:3.6.0-2ubuntu1.1) ...\n",
            "Selecting previously unselected package libvulkan1:amd64.\n",
            "Preparing to unpack .../20-libvulkan1_1.2.131.2-1_amd64.deb ...\n",
            "\u001b7\u001b[24;0f\u001b[42m\u001b[30mProgress: [ 28%]\u001b[49m\u001b[39m [###############...........................................] \u001b8Unpacking libvulkan1:amd64 (1.2.131.2-1) ...\n",
            "\u001b7\u001b[24;0f\u001b[42m\u001b[30mProgress: [ 28%]\u001b[49m\u001b[39m [################..........................................] \u001b8Selecting previously unselected package libgl1-mesa-dri:amd64.\n",
            "Preparing to unpack .../21-libgl1-mesa-dri_21.2.6-0ubuntu0.1~20.04.2_amd64.deb ...\n",
            "Unpacking libgl1-mesa-dri:amd64 (21.2.6-0ubuntu0.1~20.04.2) ...\n",
            "\u001b7\u001b[24;0f\u001b[42m\u001b[30mProgress: [ 30%]\u001b[49m\u001b[39m [#################.........................................] \u001b8Selecting previously unselected package libglx-mesa0:amd64.\n",
            "Preparing to unpack .../22-libglx-mesa0_21.2.6-0ubuntu0.1~20.04.2_amd64.deb ...\n",
            "\u001b7\u001b[24;0f\u001b[42m\u001b[30mProgress: [ 30%]\u001b[49m\u001b[39m [#################.........................................] \u001b8Unpacking libglx-mesa0:amd64 (21.2.6-0ubuntu0.1~20.04.2) ...\n",
            "Selecting previously unselected package libglx0:amd64.\n",
            "Preparing to unpack .../23-libglx0_1.3.2-1~ubuntu0.20.04.2_amd64.deb ...\n",
            "\u001b7\u001b[24;0f\u001b[42m\u001b[30mProgress: [ 32%]\u001b[49m\u001b[39m [##################........................................] \u001b8Unpacking libglx0:amd64 (1.3.2-1~ubuntu0.20.04.2) ...\n",
            "\u001b7\u001b[24;0f\u001b[42m\u001b[30mProgress: [ 32%]\u001b[49m\u001b[39m [##################........................................] \u001b8Selecting previously unselected package libgl1:amd64.\n",
            "Preparing to unpack .../24-libgl1_1.3.2-1~ubuntu0.20.04.2_amd64.deb ...\n",
            "Unpacking libgl1:amd64 (1.3.2-1~ubuntu0.20.04.2) ...\n",
            "\u001b7\u001b[24;0f\u001b[42m\u001b[30mProgress: [ 34%]\u001b[49m\u001b[39m [###################.......................................] \u001b8Selecting previously unselected package libglx-dev:amd64.\n",
            "Preparing to unpack .../25-libglx-dev_1.3.2-1~ubuntu0.20.04.2_amd64.deb ...\n",
            "\u001b7\u001b[24;0f\u001b[42m\u001b[30mProgress: [ 34%]\u001b[49m\u001b[39m [###################.......................................] \u001b8Unpacking libglx-dev:amd64 (1.3.2-1~ubuntu0.20.04.2) ...\n",
            "Selecting previously unselected package libgl-dev:amd64.\n",
            "Preparing to unpack .../26-libgl-dev_1.3.2-1~ubuntu0.20.04.2_amd64.deb ...\n",
            "\u001b7\u001b[24;0f\u001b[42m\u001b[30mProgress: [ 36%]\u001b[49m\u001b[39m [####################......................................] \u001b8Unpacking libgl-dev:amd64 (1.3.2-1~ubuntu0.20.04.2) ...\n",
            "\u001b7\u001b[24;0f\u001b[42m\u001b[30mProgress: [ 36%]\u001b[49m\u001b[39m [#####################.....................................] \u001b8Selecting previously unselected package libegl-dev:amd64.\n",
            "Preparing to unpack .../27-libegl-dev_1.3.2-1~ubuntu0.20.04.2_amd64.deb ...\n",
            "Unpacking libegl-dev:amd64 (1.3.2-1~ubuntu0.20.04.2) ...\n",
            "\u001b7\u001b[24;0f\u001b[42m\u001b[30mProgress: [ 38%]\u001b[49m\u001b[39m [#####################.....................................] \u001b8Selecting previously unselected package libgles1:amd64.\n",
            "Preparing to unpack .../28-libgles1_1.3.2-1~ubuntu0.20.04.2_amd64.deb ...\n",
            "\u001b7\u001b[24;0f\u001b[42m\u001b[30mProgress: [ 38%]\u001b[49m\u001b[39m [######################....................................] \u001b8Unpacking libgles1:amd64 (1.3.2-1~ubuntu0.20.04.2) ...\n",
            "Selecting previously unselected package libgles2:amd64.\n",
            "Preparing to unpack .../29-libgles2_1.3.2-1~ubuntu0.20.04.2_amd64.deb ...\n",
            "\u001b7\u001b[24;0f\u001b[42m\u001b[30mProgress: [ 40%]\u001b[49m\u001b[39m [######################....................................] \u001b8Unpacking libgles2:amd64 (1.3.2-1~ubuntu0.20.04.2) ...\n",
            "\u001b7\u001b[24;0f\u001b[42m\u001b[30mProgress: [ 40%]\u001b[49m\u001b[39m [#######################...................................] \u001b8Selecting previously unselected package libgles-dev:amd64.\n",
            "Preparing to unpack .../30-libgles-dev_1.3.2-1~ubuntu0.20.04.2_amd64.deb ...\n",
            "Unpacking libgles-dev:amd64 (1.3.2-1~ubuntu0.20.04.2) ...\n",
            "\u001b7\u001b[24;0f\u001b[42m\u001b[30mProgress: [ 42%]\u001b[49m\u001b[39m [########################..................................] \u001b8Selecting previously unselected package libopengl0:amd64.\n",
            "Preparing to unpack .../31-libopengl0_1.3.2-1~ubuntu0.20.04.2_amd64.deb ...\n",
            "\u001b7\u001b[24;0f\u001b[42m\u001b[30mProgress: [ 42%]\u001b[49m\u001b[39m [########################..................................] \u001b8Unpacking libopengl0:amd64 (1.3.2-1~ubuntu0.20.04.2) ...\n",
            "Selecting previously unselected package libopengl-dev:amd64.\n",
            "Preparing to unpack .../32-libopengl-dev_1.3.2-1~ubuntu0.20.04.2_amd64.deb ...\n",
            "\u001b7\u001b[24;0f\u001b[42m\u001b[30mProgress: [ 44%]\u001b[49m\u001b[39m [#########################.................................] \u001b8Unpacking libopengl-dev:amd64 (1.3.2-1~ubuntu0.20.04.2) ...\n",
            "\u001b7\u001b[24;0f\u001b[42m\u001b[30mProgress: [ 44%]\u001b[49m\u001b[39m [#########################.................................] \u001b8Selecting previously unselected package libxcb-randr0:amd64.\n",
            "Preparing to unpack .../33-libxcb-randr0_1.14-2_amd64.deb ...\n",
            "Unpacking libxcb-randr0:amd64 (1.14-2) ...\n",
            "\u001b7\u001b[24;0f\u001b[42m\u001b[30mProgress: [ 46%]\u001b[49m\u001b[39m [##########################................................] \u001b8Selecting previously unselected package mesa-vulkan-drivers:amd64.\n",
            "Preparing to unpack .../34-mesa-vulkan-drivers_21.2.6-0ubuntu0.1~20.04.2_amd64.deb ...\n",
            "\u001b7\u001b[24;0f\u001b[42m\u001b[30mProgress: [ 46%]\u001b[49m\u001b[39m [##########################................................] \u001b8Unpacking mesa-vulkan-drivers:amd64 (21.2.6-0ubuntu0.1~20.04.2) ...\n",
            "Selecting previously unselected package libglvnd-dev:amd64.\n",
            "Preparing to unpack .../35-libglvnd-dev_1.3.2-1~ubuntu0.20.04.2_amd64.deb ...\n",
            "\u001b7\u001b[24;0f\u001b[42m\u001b[30mProgress: [ 48%]\u001b[49m\u001b[39m [###########################...............................] \u001b8Unpacking libglvnd-dev:amd64 (1.3.2-1~ubuntu0.20.04.2) ...\n",
            "\u001b7\u001b[24;0f\u001b[42m\u001b[30mProgress: [ 48%]\u001b[49m\u001b[39m [############################..............................] \u001b8Selecting previously unselected package libgl1-mesa-dev:amd64.\n",
            "Preparing to unpack .../36-libgl1-mesa-dev_21.2.6-0ubuntu0.1~20.04.2_amd64.deb ...\n",
            "Unpacking libgl1-mesa-dev:amd64 (21.2.6-0ubuntu0.1~20.04.2) ...\n",
            "\u001b7\u001b[24;0f\u001b[42m\u001b[30mProgress: [ 50%]\u001b[49m\u001b[39m [############################..............................] \u001b8Setting up libxcb-dri3-0:amd64 (1.14-2) ...\n",
            "\u001b7\u001b[24;0f\u001b[42m\u001b[30mProgress: [ 50%]\u001b[49m\u001b[39m [#############################.............................] \u001b8\u001b7\u001b[24;0f\u001b[42m\u001b[30mProgress: [ 51%]\u001b[49m\u001b[39m [#############################.............................] \u001b8Setting up libpciaccess0:amd64 (0.16-0ubuntu1) ...\n",
            "\u001b7\u001b[24;0f\u001b[42m\u001b[30mProgress: [ 52%]\u001b[49m\u001b[39m [##############################............................] \u001b8Setting up libdrm-nouveau2:amd64 (2.4.107-8ubuntu1~20.04.2) ...\n",
            "\u001b7\u001b[24;0f\u001b[42m\u001b[30mProgress: [ 53%]\u001b[49m\u001b[39m [##############################............................] \u001b8Setting up libxcb-xfixes0:amd64 (1.14-2) ...\n",
            "\u001b7\u001b[24;0f\u001b[42m\u001b[30mProgress: [ 54%]\u001b[49m\u001b[39m [###############################...........................] \u001b8\u001b7\u001b[24;0f\u001b[42m\u001b[30mProgress: [ 55%]\u001b[49m\u001b[39m [###############################...........................] \u001b8Setting up libdrm-radeon1:amd64 (2.4.107-8ubuntu1~20.04.2) ...\n",
            "\u001b7\u001b[24;0f\u001b[42m\u001b[30mProgress: [ 56%]\u001b[49m\u001b[39m [################################..........................] \u001b8Setting up libglvnd0:amd64 (1.3.2-1~ubuntu0.20.04.2) ...\n",
            "\u001b7\u001b[24;0f\u001b[42m\u001b[30mProgress: [ 57%]\u001b[49m\u001b[39m [#################################.........................] \u001b8Setting up libxcb-glx0:amd64 (1.14-2) ...\n",
            "\u001b7\u001b[24;0f\u001b[42m\u001b[30mProgress: [ 58%]\u001b[49m\u001b[39m [#################################.........................] \u001b8\u001b7\u001b[24;0f\u001b[42m\u001b[30mProgress: [ 59%]\u001b[49m\u001b[39m [##################################........................] \u001b8Setting up libdrm-intel1:amd64 (2.4.107-8ubuntu1~20.04.2) ...\n",
            "\u001b7\u001b[24;0f\u001b[42m\u001b[30mProgress: [ 60%]\u001b[49m\u001b[39m [###################################.......................] \u001b8Setting up libsensors-config (1:3.6.0-2ubuntu1.1) ...\n",
            "\u001b7\u001b[24;0f\u001b[42m\u001b[30mProgress: [ 61%]\u001b[49m\u001b[39m [###################################.......................] \u001b8Setting up libopengl0:amd64 (1.3.2-1~ubuntu0.20.04.2) ...\n",
            "\u001b7\u001b[24;0f\u001b[42m\u001b[30mProgress: [ 62%]\u001b[49m\u001b[39m [####################################......................] \u001b8\u001b7\u001b[24;0f\u001b[42m\u001b[30mProgress: [ 63%]\u001b[49m\u001b[39m [####################################......................] \u001b8Setting up libxxf86vm1:amd64 (1:1.1.4-1build1) ...\n",
            "\u001b7\u001b[24;0f\u001b[42m\u001b[30mProgress: [ 64%]\u001b[49m\u001b[39m [#####################################.....................] \u001b8Setting up libxcb-present0:amd64 (1.14-2) ...\n",
            "\u001b7\u001b[24;0f\u001b[42m\u001b[30mProgress: [ 65%]\u001b[49m\u001b[39m [#####################################.....................] \u001b8Setting up libgles2:amd64 (1.3.2-1~ubuntu0.20.04.2) ...\n",
            "\u001b7\u001b[24;0f\u001b[42m\u001b[30mProgress: [ 66%]\u001b[49m\u001b[39m [######################################....................] \u001b8\u001b7\u001b[24;0f\u001b[42m\u001b[30mProgress: [ 67%]\u001b[49m\u001b[39m [######################################....................] \u001b8Setting up libxcb-sync1:amd64 (1.14-2) ...\n",
            "\u001b7\u001b[24;0f\u001b[42m\u001b[30mProgress: [ 68%]\u001b[49m\u001b[39m [#######################################...................] \u001b8Setting up libllvm12:amd64 (1:12.0.0-3ubuntu1~20.04.5) ...\n",
            "\u001b7\u001b[24;0f\u001b[42m\u001b[30mProgress: [ 69%]\u001b[49m\u001b[39m [########################################..................] \u001b8Setting up libgles1:amd64 (1.3.2-1~ubuntu0.20.04.2) ...\n",
            "\u001b7\u001b[24;0f\u001b[42m\u001b[30mProgress: [ 70%]\u001b[49m\u001b[39m [########################################..................] \u001b8\u001b7\u001b[24;0f\u001b[42m\u001b[30mProgress: [ 71%]\u001b[49m\u001b[39m [#########################################.................] \u001b8Setting up libsensors5:amd64 (1:3.6.0-2ubuntu1.1) ...\n",
            "\u001b7\u001b[24;0f\u001b[42m\u001b[30mProgress: [ 72%]\u001b[49m\u001b[39m [##########################################................] \u001b8Setting up libglapi-mesa:amd64 (21.2.6-0ubuntu0.1~20.04.2) ...\n",
            "\u001b7\u001b[24;0f\u001b[42m\u001b[30mProgress: [ 73%]\u001b[49m\u001b[39m [##########################################................] \u001b8Setting up libvulkan1:amd64 (1.2.131.2-1) ...\n",
            "\u001b7\u001b[24;0f\u001b[42m\u001b[30mProgress: [ 74%]\u001b[49m\u001b[39m [###########################################...............] \u001b8\u001b7\u001b[24;0f\u001b[42m\u001b[30mProgress: [ 75%]\u001b[49m\u001b[39m [###########################################...............] \u001b8Setting up libxcb-dri2-0:amd64 (1.14-2) ...\n",
            "\u001b7\u001b[24;0f\u001b[42m\u001b[30mProgress: [ 77%]\u001b[49m\u001b[39m [############################################..............] \u001b8Setting up libxshmfence1:amd64 (1.3-1) ...\n",
            "\u001b7\u001b[24;0f\u001b[42m\u001b[30mProgress: [ 77%]\u001b[49m\u001b[39m [############################################..............] \u001b8Setting up libxcb-randr0:amd64 (1.14-2) ...\n",
            "\u001b7\u001b[24;0f\u001b[42m\u001b[30mProgress: [ 79%]\u001b[49m\u001b[39m [#############################################.............] \u001b8\u001b7\u001b[24;0f\u001b[42m\u001b[30mProgress: [ 79%]\u001b[49m\u001b[39m [#############################################.............] \u001b8Setting up libopengl-dev:amd64 (1.3.2-1~ubuntu0.20.04.2) ...\n",
            "\u001b7\u001b[24;0f\u001b[42m\u001b[30mProgress: [ 81%]\u001b[49m\u001b[39m [##############################################............] \u001b8Setting up libdrm-amdgpu1:amd64 (2.4.107-8ubuntu1~20.04.2) ...\n",
            "\u001b7\u001b[24;0f\u001b[42m\u001b[30mProgress: [ 81%]\u001b[49m\u001b[39m [###############################################...........] \u001b8Setting up mesa-vulkan-drivers:amd64 (21.2.6-0ubuntu0.1~20.04.2) ...\n",
            "\u001b7\u001b[24;0f\u001b[42m\u001b[30mProgress: [ 83%]\u001b[49m\u001b[39m [###############################################...........] \u001b8\u001b7\u001b[24;0f\u001b[42m\u001b[30mProgress: [ 83%]\u001b[49m\u001b[39m [################################################..........] \u001b8Setting up libgl1-mesa-dri:amd64 (21.2.6-0ubuntu0.1~20.04.2) ...\n",
            "\u001b7\u001b[24;0f\u001b[42m\u001b[30mProgress: [ 85%]\u001b[49m\u001b[39m [#################################################.........] \u001b8Setting up libegl-mesa0:amd64 (21.2.6-0ubuntu0.1~20.04.2) ...\n",
            "\u001b7\u001b[24;0f\u001b[42m\u001b[30mProgress: [ 85%]\u001b[49m\u001b[39m [#################################################.........] \u001b8Setting up libegl1:amd64 (1.3.2-1~ubuntu0.20.04.2) ...\n",
            "\u001b7\u001b[24;0f\u001b[42m\u001b[30mProgress: [ 87%]\u001b[49m\u001b[39m [##################################################........] \u001b8\u001b7\u001b[24;0f\u001b[42m\u001b[30mProgress: [ 87%]\u001b[49m\u001b[39m [##################################################........] \u001b8Setting up libglx-mesa0:amd64 (21.2.6-0ubuntu0.1~20.04.2) ...\n",
            "\u001b7\u001b[24;0f\u001b[42m\u001b[30mProgress: [ 89%]\u001b[49m\u001b[39m [###################################################.......] \u001b8Setting up libglx0:amd64 (1.3.2-1~ubuntu0.20.04.2) ...\n",
            "\u001b7\u001b[24;0f\u001b[42m\u001b[30mProgress: [ 89%]\u001b[49m\u001b[39m [###################################################.......] \u001b8Setting up libgl1:amd64 (1.3.2-1~ubuntu0.20.04.2) ...\n",
            "\u001b7\u001b[24;0f\u001b[42m\u001b[30mProgress: [ 91%]\u001b[49m\u001b[39m [####################################################......] \u001b8\u001b7\u001b[24;0f\u001b[42m\u001b[30mProgress: [ 91%]\u001b[49m\u001b[39m [####################################################......] \u001b8Setting up libglx-dev:amd64 (1.3.2-1~ubuntu0.20.04.2) ...\n",
            "\u001b7\u001b[24;0f\u001b[42m\u001b[30mProgress: [ 93%]\u001b[49m\u001b[39m [#####################################################.....] \u001b8Setting up libgl-dev:amd64 (1.3.2-1~ubuntu0.20.04.2) ...\n",
            "\u001b7\u001b[24;0f\u001b[42m\u001b[30mProgress: [ 93%]\u001b[49m\u001b[39m [######################################################....] \u001b8Setting up libegl-dev:amd64 (1.3.2-1~ubuntu0.20.04.2) ...\n",
            "\u001b7\u001b[24;0f\u001b[42m\u001b[30mProgress: [ 95%]\u001b[49m\u001b[39m [######################################################....] \u001b8\u001b7\u001b[24;0f\u001b[42m\u001b[30mProgress: [ 95%]\u001b[49m\u001b[39m [#######################################################...] \u001b8Setting up libgles-dev:amd64 (1.3.2-1~ubuntu0.20.04.2) ...\n",
            "\u001b7\u001b[24;0f\u001b[42m\u001b[30mProgress: [ 97%]\u001b[49m\u001b[39m [########################################################..] \u001b8Setting up libglvnd-dev:amd64 (1.3.2-1~ubuntu0.20.04.2) ...\n",
            "\u001b7\u001b[24;0f\u001b[42m\u001b[30mProgress: [ 97%]\u001b[49m\u001b[39m [########################################################..] \u001b8Setting up libgl1-mesa-dev:amd64 (21.2.6-0ubuntu0.1~20.04.2) ...\n",
            "\u001b7\u001b[24;0f\u001b[42m\u001b[30mProgress: [ 99%]\u001b[49m\u001b[39m [#########################################################.] \u001b8\u001b7\u001b[24;0f\u001b[42m\u001b[30mProgress: [ 99%]\u001b[49m\u001b[39m [#########################################################.] \u001b8Processing triggers for libc-bin (2.31-0ubuntu9.9) ...\n",
            "\n",
            "\u001b7\u001b[0;24r\u001b8\u001b[1A\u001b[J"
          ]
        }
      ],
      "source": [
        "!sudo apt install libgl1-mesa-dev -y"
      ]
    },
    {
      "cell_type": "code",
      "execution_count": 9,
      "metadata": {
        "id": "TSJal7yg4GT-"
      },
      "outputs": [],
      "source": [
        "import cv2"
      ]
    },
    {
      "cell_type": "code",
      "execution_count": 6,
      "metadata": {
        "colab": {
          "base_uri": "https://localhost:8080/"
        },
        "id": "Xva0jA4K4cEe",
        "outputId": "021736a0-f899-4686-e827-72543d09331a"
      },
      "outputs": [
        {
          "name": "stdout",
          "output_type": "stream",
          "text": [
            "Downloading data from https://storage.googleapis.com/tensorflow/tf-keras-datasets/mnist.npz\n",
            "11490434/11490434 [==============================] - 0s 0us/step\n"
          ]
        }
      ],
      "source": [
        "minst = keras.datasets.mnist.load_data()"
      ]
    },
    {
      "cell_type": "code",
      "execution_count": 10,
      "metadata": {
        "colab": {
          "base_uri": "https://localhost:8080/"
        },
        "id": "_-eG-GqORXWg",
        "outputId": "9e6cf949-2277-40de-8479-9f0d5f9141e6"
      },
      "outputs": [
        {
          "data": {
            "text/plain": [
              "array([0, 0, 0, 0, 0, 0, 0, 0, 0, 0, 0, 0, 0, 0, 0, 0, 0, 0, 0, 0, 0, 0,\n",
              "       0, 0, 0, 0, 0, 0], dtype=uint8)"
            ]
          },
          "execution_count": 10,
          "metadata": {},
          "output_type": "execute_result"
        }
      ],
      "source": [
        "minst[0][0][0][0]"
      ]
    },
    {
      "cell_type": "code",
      "execution_count": 15,
      "metadata": {
        "colab": {
          "base_uri": "https://localhost:8080/"
        },
        "id": "NdIDPluuRaVc",
        "outputId": "905e97ee-44c4-416d-a7be-3251107e5b2b"
      },
      "outputs": [
        {
          "data": {
            "text/plain": [
              "array([5, 0, 4, ..., 5, 6, 8], dtype=uint8)"
            ]
          },
          "execution_count": 15,
          "metadata": {},
          "output_type": "execute_result"
        }
      ],
      "source": [
        "minst[0][1]"
      ]
    },
    {
      "cell_type": "code",
      "execution_count": 11,
      "metadata": {
        "id": "kvsR4NrmRqRm"
      },
      "outputs": [],
      "source": [
        "a=[1,2,3]"
      ]
    },
    {
      "cell_type": "code",
      "execution_count": 20,
      "metadata": {
        "colab": {
          "base_uri": "https://localhost:8080/"
        },
        "id": "3Pprw3WdRsF0",
        "outputId": "a2c43f84-5f2f-44a2-e0bb-11b048d8c285"
      },
      "outputs": [
        {
          "data": {
            "text/plain": [
              "list"
            ]
          },
          "execution_count": 20,
          "metadata": {},
          "output_type": "execute_result"
        }
      ],
      "source": [
        "type(a)"
      ]
    },
    {
      "cell_type": "code",
      "execution_count": 12,
      "metadata": {},
      "outputs": [],
      "source": [
        "import pandas as pd"
      ]
    },
    {
      "cell_type": "code",
      "execution_count": 13,
      "metadata": {},
      "outputs": [
        {
          "data": {
            "text/plain": [
              "'1.4.3'"
            ]
          },
          "execution_count": 13,
          "metadata": {},
          "output_type": "execute_result"
        }
      ],
      "source": [
        "pd.__version__"
      ]
    },
    {
      "cell_type": "code",
      "execution_count": 5,
      "metadata": {},
      "outputs": [
        {
          "name": "stderr",
          "output_type": "stream",
          "text": [
            "2022-07-14 09:17:56.673594: W tensorflow/stream_executor/platform/default/dso_loader.cc:64] Could not load dynamic library 'libcudart.so.11.0'; dlerror: libcudart.so.11.0: cannot open shared object file: No such file or directory\n",
            "2022-07-14 09:17:56.673637: I tensorflow/stream_executor/cuda/cudart_stub.cc:29] Ignore above cudart dlerror if you do not have a GPU set up on your machine.\n"
          ]
        }
      ],
      "source": [
        "import tensorflow as tf"
      ]
    },
    {
      "cell_type": "code",
      "execution_count": 14,
      "metadata": {},
      "outputs": [
        {
          "data": {
            "text/plain": [
              "'2.9.1'"
            ]
          },
          "execution_count": 14,
          "metadata": {},
          "output_type": "execute_result"
        }
      ],
      "source": [
        "tf.__version__"
      ]
    },
    {
      "cell_type": "code",
      "execution_count": 15,
      "metadata": {},
      "outputs": [],
      "source": [
        "import torch"
      ]
    },
    {
      "cell_type": "code",
      "execution_count": 8,
      "metadata": {},
      "outputs": [
        {
          "data": {
            "text/plain": [
              "'1.11.0+cu102'"
            ]
          },
          "execution_count": 8,
          "metadata": {},
          "output_type": "execute_result"
        }
      ],
      "source": [
        "torch.__version__"
      ]
    },
    {
      "cell_type": "code",
      "execution_count": 16,
      "metadata": {},
      "outputs": [],
      "source": [
        "import pandas as pd"
      ]
    },
    {
      "cell_type": "code",
      "execution_count": 17,
      "metadata": {},
      "outputs": [],
      "source": [
        "df = pd.read_excel(\"上市资产明细表-2022-01.xlsx\")"
      ]
    },
    {
      "cell_type": "code",
      "execution_count": 4,
      "metadata": {},
      "outputs": [
        {
          "name": "stdout",
          "output_type": "stream",
          "text": [
            "<class 'pandas.core.frame.DataFrame'>\n",
            "RangeIndex: 353532 entries, 0 to 353531\n",
            "Data columns (total 59 columns):\n",
            " #   Column    Non-Null Count   Dtype  \n",
            "---  ------    --------------   -----  \n",
            " 0   资产编号      353532 non-null  object \n",
            " 1   资产标签号     353531 non-null  object \n",
            " 2   资产名称      353531 non-null  object \n",
            " 3   资产类别      353531 non-null  object \n",
            " 4   资产类别描述    353531 non-null  object \n",
            " 5   序列号       1149 non-null    object \n",
            " 6   资产关键字     353531 non-null  object \n",
            " 7   厂商        349655 non-null  object \n",
            " 8   规格型号      350695 non-null  object \n",
            " 9   单位        353411 non-null  object \n",
            " 10  创建日期      353531 non-null  object \n",
            " 11  启用日期      353531 non-null  object \n",
            " 12  按比例分摊日期   353531 non-null  object \n",
            " 13  折旧方法      353531 non-null  object \n",
            " 14  使用年限      353531 non-null  float64\n",
            " 15  剩余月数      353531 non-null  float64\n",
            " 16  是否折旧      353531 non-null  object \n",
            " 17  是否摊销调整    353531 non-null  object \n",
            " 18  成本        353532 non-null  float64\n",
            " 19  资产净值      353532 non-null  float64\n",
            " 20  资产净额      353532 non-null  float64\n",
            " 21  残值        353532 non-null  float64\n",
            " 22  本期折旧额     353532 non-null  float64\n",
            " 23  本年折旧额     353532 non-null  float64\n",
            " 24  累计折旧额     353532 non-null  float64\n",
            " 25  本期减值准备    353532 non-null  int64  \n",
            " 26  本年减值准备    353532 non-null  int64  \n",
            " 27  累计减值准备    353532 non-null  float64\n",
            " 28  员工编号      353531 non-null  object \n",
            " 29  员工姓名      353531 non-null  object \n",
            " 30  地点        353531 non-null  object \n",
            " 31  地点说明      353531 non-null  object \n",
            " 32  原资产编号     362 non-null     object \n",
            " 33  原资产标签号    37715 non-null   object \n",
            " 34  建设状态      11495 non-null   object \n",
            " 35  资产来源      353514 non-null  object \n",
            " 36  发票编号      2 non-null       object \n",
            " 37  项目编号      348726 non-null  object \n",
            " 38  项目名称      348726 non-null  object \n",
            " 39  其他附加信息    12850 non-null   object \n",
            " 40  成本帐户      353531 non-null  object \n",
            " 41  成本帐户描述    353531 non-null  object \n",
            " 42  折旧帐户      353531 non-null  object \n",
            " 43  折旧帐户描述    353531 non-null  object \n",
            " 44  累计折旧帐户    353531 non-null  object \n",
            " 45  累计折旧帐户描述  353531 non-null  object \n",
            " 46  预算公司段     0 non-null       float64\n",
            " 47  预算责任部门    0 non-null       float64\n",
            " 48  预算项目      0 non-null       float64\n",
            " 49  报账业务活动    0 non-null       float64\n",
            " 50  预算科目      0 non-null       float64\n",
            " 51  业务平台      2687 non-null    object \n",
            " 52  网络层次      317650 non-null  object \n",
            " 53  是否共建      284942 non-null  object \n",
            " 54  预算合同信息    0 non-null       float64\n",
            " 55  实际数量      353093 non-null  float64\n",
            " 56  资产抵扣标识    352963 non-null  object \n",
            " 57  财产类型      353531 non-null  object \n",
            " 58  项目共建属性    7680 non-null    object \n",
            "dtypes: float64(17), int64(2), object(40)\n",
            "memory usage: 159.1+ MB\n"
          ]
        }
      ],
      "source": [
        "df.info()"
      ]
    },
    {
      "cell_type": "code",
      "execution_count": 18,
      "metadata": {},
      "outputs": [
        {
          "data": {
            "text/html": [
              "<div>\n",
              "<style scoped>\n",
              "    .dataframe tbody tr th:only-of-type {\n",
              "        vertical-align: middle;\n",
              "    }\n",
              "\n",
              "    .dataframe tbody tr th {\n",
              "        vertical-align: top;\n",
              "    }\n",
              "\n",
              "    .dataframe thead th {\n",
              "        text-align: right;\n",
              "    }\n",
              "</style>\n",
              "<table border=\"1\" class=\"dataframe\">\n",
              "  <thead>\n",
              "    <tr style=\"text-align: right;\">\n",
              "      <th></th>\n",
              "      <th>使用年限</th>\n",
              "      <th>剩余月数</th>\n",
              "      <th>成本</th>\n",
              "      <th>资产净值</th>\n",
              "      <th>资产净额</th>\n",
              "      <th>残值</th>\n",
              "      <th>本期折旧额</th>\n",
              "      <th>本年折旧额</th>\n",
              "      <th>累计折旧额</th>\n",
              "      <th>本期减值准备</th>\n",
              "      <th>本年减值准备</th>\n",
              "      <th>累计减值准备</th>\n",
              "      <th>预算公司段</th>\n",
              "      <th>预算责任部门</th>\n",
              "      <th>预算项目</th>\n",
              "      <th>报账业务活动</th>\n",
              "      <th>预算科目</th>\n",
              "      <th>预算合同信息</th>\n",
              "      <th>实际数量</th>\n",
              "    </tr>\n",
              "  </thead>\n",
              "  <tbody>\n",
              "    <tr>\n",
              "      <th>count</th>\n",
              "      <td>353531.000000</td>\n",
              "      <td>353531.000000</td>\n",
              "      <td>3.535320e+05</td>\n",
              "      <td>3.535320e+05</td>\n",
              "      <td>3.535320e+05</td>\n",
              "      <td>3.535320e+05</td>\n",
              "      <td>3.535320e+05</td>\n",
              "      <td>3.535320e+05</td>\n",
              "      <td>3.535320e+05</td>\n",
              "      <td>353532.0</td>\n",
              "      <td>353532.0</td>\n",
              "      <td>3.535320e+05</td>\n",
              "      <td>0.0</td>\n",
              "      <td>0.0</td>\n",
              "      <td>0.0</td>\n",
              "      <td>0.0</td>\n",
              "      <td>0.0</td>\n",
              "      <td>0.0</td>\n",
              "      <td>353093.000000</td>\n",
              "    </tr>\n",
              "    <tr>\n",
              "      <th>mean</th>\n",
              "      <td>6.657923</td>\n",
              "      <td>29.410236</td>\n",
              "      <td>4.486297e+04</td>\n",
              "      <td>1.533356e+04</td>\n",
              "      <td>1.505334e+04</td>\n",
              "      <td>8.645517e+02</td>\n",
              "      <td>2.892877e+02</td>\n",
              "      <td>2.892877e+02</td>\n",
              "      <td>2.952941e+04</td>\n",
              "      <td>0.0</td>\n",
              "      <td>0.0</td>\n",
              "      <td>2.802179e+02</td>\n",
              "      <td>NaN</td>\n",
              "      <td>NaN</td>\n",
              "      <td>NaN</td>\n",
              "      <td>NaN</td>\n",
              "      <td>NaN</td>\n",
              "      <td>NaN</td>\n",
              "      <td>2.888286</td>\n",
              "    </tr>\n",
              "    <tr>\n",
              "      <th>std</th>\n",
              "      <td>1.817830</td>\n",
              "      <td>30.286614</td>\n",
              "      <td>1.334105e+07</td>\n",
              "      <td>4.563681e+06</td>\n",
              "      <td>4.480469e+06</td>\n",
              "      <td>2.571452e+05</td>\n",
              "      <td>8.602846e+04</td>\n",
              "      <td>8.602846e+04</td>\n",
              "      <td>8.780872e+06</td>\n",
              "      <td>0.0</td>\n",
              "      <td>0.0</td>\n",
              "      <td>8.335670e+04</td>\n",
              "      <td>NaN</td>\n",
              "      <td>NaN</td>\n",
              "      <td>NaN</td>\n",
              "      <td>NaN</td>\n",
              "      <td>NaN</td>\n",
              "      <td>NaN</td>\n",
              "      <td>308.707473</td>\n",
              "    </tr>\n",
              "    <tr>\n",
              "      <th>min</th>\n",
              "      <td>3.000000</td>\n",
              "      <td>0.000000</td>\n",
              "      <td>0.000000e+00</td>\n",
              "      <td>0.000000e+00</td>\n",
              "      <td>0.000000e+00</td>\n",
              "      <td>0.000000e+00</td>\n",
              "      <td>-4.459340e+03</td>\n",
              "      <td>-4.459340e+03</td>\n",
              "      <td>0.000000e+00</td>\n",
              "      <td>0.0</td>\n",
              "      <td>0.0</td>\n",
              "      <td>0.000000e+00</td>\n",
              "      <td>NaN</td>\n",
              "      <td>NaN</td>\n",
              "      <td>NaN</td>\n",
              "      <td>NaN</td>\n",
              "      <td>NaN</td>\n",
              "      <td>NaN</td>\n",
              "      <td>0.000000</td>\n",
              "    </tr>\n",
              "    <tr>\n",
              "      <th>25%</th>\n",
              "      <td>5.000000</td>\n",
              "      <td>0.000000</td>\n",
              "      <td>2.962403e+03</td>\n",
              "      <td>2.949000e+02</td>\n",
              "      <td>2.168100e+02</td>\n",
              "      <td>4.556000e+01</td>\n",
              "      <td>0.000000e+00</td>\n",
              "      <td>0.000000e+00</td>\n",
              "      <td>1.445880e+03</td>\n",
              "      <td>0.0</td>\n",
              "      <td>0.0</td>\n",
              "      <td>0.000000e+00</td>\n",
              "      <td>NaN</td>\n",
              "      <td>NaN</td>\n",
              "      <td>NaN</td>\n",
              "      <td>NaN</td>\n",
              "      <td>NaN</td>\n",
              "      <td>NaN</td>\n",
              "      <td>1.000000</td>\n",
              "    </tr>\n",
              "    <tr>\n",
              "      <th>50%</th>\n",
              "      <td>7.000000</td>\n",
              "      <td>23.000000</td>\n",
              "      <td>6.748660e+03</td>\n",
              "      <td>1.285560e+03</td>\n",
              "      <td>1.169540e+03</td>\n",
              "      <td>1.536400e+02</td>\n",
              "      <td>3.306000e+01</td>\n",
              "      <td>3.306000e+01</td>\n",
              "      <td>3.954260e+03</td>\n",
              "      <td>0.0</td>\n",
              "      <td>0.0</td>\n",
              "      <td>0.000000e+00</td>\n",
              "      <td>NaN</td>\n",
              "      <td>NaN</td>\n",
              "      <td>NaN</td>\n",
              "      <td>NaN</td>\n",
              "      <td>NaN</td>\n",
              "      <td>NaN</td>\n",
              "      <td>1.000000</td>\n",
              "    </tr>\n",
              "    <tr>\n",
              "      <th>75%</th>\n",
              "      <td>7.000000</td>\n",
              "      <td>49.000000</td>\n",
              "      <td>1.587034e+04</td>\n",
              "      <td>4.761210e+03</td>\n",
              "      <td>4.619970e+03</td>\n",
              "      <td>3.900000e+02</td>\n",
              "      <td>1.076025e+02</td>\n",
              "      <td>1.076025e+02</td>\n",
              "      <td>9.700000e+03</td>\n",
              "      <td>0.0</td>\n",
              "      <td>0.0</td>\n",
              "      <td>0.000000e+00</td>\n",
              "      <td>NaN</td>\n",
              "      <td>NaN</td>\n",
              "      <td>NaN</td>\n",
              "      <td>NaN</td>\n",
              "      <td>NaN</td>\n",
              "      <td>NaN</td>\n",
              "      <td>1.000000</td>\n",
              "    </tr>\n",
              "    <tr>\n",
              "      <th>max</th>\n",
              "      <td>30.000000</td>\n",
              "      <td>338.000000</td>\n",
              "      <td>7.930248e+09</td>\n",
              "      <td>2.710452e+09</td>\n",
              "      <td>2.660919e+09</td>\n",
              "      <td>1.528233e+08</td>\n",
              "      <td>5.113623e+07</td>\n",
              "      <td>5.113623e+07</td>\n",
              "      <td>5.219795e+09</td>\n",
              "      <td>0.0</td>\n",
              "      <td>0.0</td>\n",
              "      <td>4.953300e+07</td>\n",
              "      <td>NaN</td>\n",
              "      <td>NaN</td>\n",
              "      <td>NaN</td>\n",
              "      <td>NaN</td>\n",
              "      <td>NaN</td>\n",
              "      <td>NaN</td>\n",
              "      <td>142992.000000</td>\n",
              "    </tr>\n",
              "  </tbody>\n",
              "</table>\n",
              "</div>"
            ],
            "text/plain": [
              "                使用年限           剩余月数            成本          资产净值          资产净额  \\\n",
              "count  353531.000000  353531.000000  3.535320e+05  3.535320e+05  3.535320e+05   \n",
              "mean        6.657923      29.410236  4.486297e+04  1.533356e+04  1.505334e+04   \n",
              "std         1.817830      30.286614  1.334105e+07  4.563681e+06  4.480469e+06   \n",
              "min         3.000000       0.000000  0.000000e+00  0.000000e+00  0.000000e+00   \n",
              "25%         5.000000       0.000000  2.962403e+03  2.949000e+02  2.168100e+02   \n",
              "50%         7.000000      23.000000  6.748660e+03  1.285560e+03  1.169540e+03   \n",
              "75%         7.000000      49.000000  1.587034e+04  4.761210e+03  4.619970e+03   \n",
              "max        30.000000     338.000000  7.930248e+09  2.710452e+09  2.660919e+09   \n",
              "\n",
              "                 残值         本期折旧额         本年折旧额         累计折旧额    本期减值准备  \\\n",
              "count  3.535320e+05  3.535320e+05  3.535320e+05  3.535320e+05  353532.0   \n",
              "mean   8.645517e+02  2.892877e+02  2.892877e+02  2.952941e+04       0.0   \n",
              "std    2.571452e+05  8.602846e+04  8.602846e+04  8.780872e+06       0.0   \n",
              "min    0.000000e+00 -4.459340e+03 -4.459340e+03  0.000000e+00       0.0   \n",
              "25%    4.556000e+01  0.000000e+00  0.000000e+00  1.445880e+03       0.0   \n",
              "50%    1.536400e+02  3.306000e+01  3.306000e+01  3.954260e+03       0.0   \n",
              "75%    3.900000e+02  1.076025e+02  1.076025e+02  9.700000e+03       0.0   \n",
              "max    1.528233e+08  5.113623e+07  5.113623e+07  5.219795e+09       0.0   \n",
              "\n",
              "         本年减值准备        累计减值准备  预算公司段  预算责任部门  预算项目  报账业务活动  预算科目  预算合同信息  \\\n",
              "count  353532.0  3.535320e+05    0.0     0.0   0.0     0.0   0.0     0.0   \n",
              "mean        0.0  2.802179e+02    NaN     NaN   NaN     NaN   NaN     NaN   \n",
              "std         0.0  8.335670e+04    NaN     NaN   NaN     NaN   NaN     NaN   \n",
              "min         0.0  0.000000e+00    NaN     NaN   NaN     NaN   NaN     NaN   \n",
              "25%         0.0  0.000000e+00    NaN     NaN   NaN     NaN   NaN     NaN   \n",
              "50%         0.0  0.000000e+00    NaN     NaN   NaN     NaN   NaN     NaN   \n",
              "75%         0.0  0.000000e+00    NaN     NaN   NaN     NaN   NaN     NaN   \n",
              "max         0.0  4.953300e+07    NaN     NaN   NaN     NaN   NaN     NaN   \n",
              "\n",
              "                实际数量  \n",
              "count  353093.000000  \n",
              "mean        2.888286  \n",
              "std       308.707473  \n",
              "min         0.000000  \n",
              "25%         1.000000  \n",
              "50%         1.000000  \n",
              "75%         1.000000  \n",
              "max    142992.000000  "
            ]
          },
          "execution_count": 18,
          "metadata": {},
          "output_type": "execute_result"
        }
      ],
      "source": [
        "df.describe()"
      ]
    },
    {
      "cell_type": "code",
      "execution_count": 31,
      "metadata": {},
      "outputs": [
        {
          "data": {
            "text/plain": [
              "(152,)"
            ]
          },
          "execution_count": 31,
          "metadata": {},
          "output_type": "execute_result"
        }
      ],
      "source": [
        "pd.unique(df[\"折旧帐户描述\"]).shape"
      ]
    },
    {
      "cell_type": "code",
      "execution_count": 40,
      "metadata": {},
      "outputs": [
        {
          "data": {
            "text/plain": [
              "<pandas.core.strings.accessor.StringMethods at 0x7f3bd0929690>"
            ]
          },
          "execution_count": 40,
          "metadata": {},
          "output_type": "execute_result"
        }
      ],
      "source": [
        "df[\"折旧帐户描述\"].st"
      ]
    },
    {
      "cell_type": "code",
      "execution_count": null,
      "metadata": {},
      "outputs": [],
      "source": []
    }
  ],
  "metadata": {
    "colab": {
      "authorship_tag": "ABX9TyPgomPTqhbOEDRAoK0uruyD",
      "include_colab_link": true,
      "name": "Untitled0.ipynb",
      "provenance": []
    },
    "kernelspec": {
      "display_name": "Python 3.10.4 64-bit",
      "language": "python",
      "name": "python3"
    },
    "language_info": {
      "codemirror_mode": {
        "name": "ipython",
        "version": 3
      },
      "file_extension": ".py",
      "mimetype": "text/x-python",
      "name": "python",
      "nbconvert_exporter": "python",
      "pygments_lexer": "ipython3",
      "version": "3.10.4"
    },
    "vscode": {
      "interpreter": {
        "hash": "4f946df053fbf2b937619d3c5458e7af74262f9a954d8797ba0b27400bcafe06"
      }
    }
  },
  "nbformat": 4,
  "nbformat_minor": 0
}
